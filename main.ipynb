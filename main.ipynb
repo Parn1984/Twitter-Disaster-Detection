{
 "cells": [
  {
   "cell_type": "markdown",
   "metadata": {
    "id": "gEh2oFgKub4q",
    "pycharm": {
     "name": "#%% md\n"
    }
   },
   "source": [
    "# Twitter Disaster Detection"
   ]
  },
  {
   "cell_type": "markdown",
   "metadata": {
    "id": "OMgIsH5Fub4r",
    "pycharm": {
     "name": "#%% md\n"
    }
   },
   "source": [
    "## Project Preperation"
   ]
  },
  {
   "cell_type": "markdown",
   "metadata": {
    "id": "VFHHF2Y1ub4s",
    "pycharm": {
     "name": "#%% md\n"
    }
   },
   "source": [
    "### Imports"
   ]
  },
  {
   "cell_type": "markdown",
   "metadata": {},
   "source": [
    "#### PYthon Imports"
   ]
  },
  {
   "cell_type": "code",
   "execution_count": 26,
   "metadata": {
    "pycharm": {
     "name": "#%%\n"
    }
   },
   "outputs": [],
   "source": [
    "import pandas as pd\n",
    "from IPython.display import display\n",
    "import configparser\n",
    "import modules.pred_word_vectorizer as wv\n",
    "import modules.data_exploration as dataexpl\n",
    "import modules.pred_decision_trees as decision_trees\n",
    "from sklearn.model_selection import train_test_split\n",
    "from sklearn.feature_extraction.text import CountVectorizer\n",
    "from sklearn.feature_extraction.text import TfidfVectorizer\n",
    "from sklearn.feature_extraction.text import TfidfTransformer\n",
    "from sklearn.model_selection import cross_val_score\n",
    "from sklearn.pipeline import Pipeline\n",
    "from sklearn.naive_bayes import MultinomialNB\n",
    "from sklearn.metrics import confusion_matrix\n",
    "from sklearn.metrics import accuracy_score\n",
    "\n",
    "#### Settings Import"
   ]
  },
  {
   "cell_type": "code",
   "execution_count": 27,
   "metadata": {
    "pycharm": {
     "name": "#%%\n"
    }
   },
   "outputs": [],
   "source": [
    "settings = configparser.ConfigParser()\n",
    "settings.read('main.ini')\n",
    "file_path = settings['FILE']['file']"
   ]
  },
  {
   "cell_type": "markdown",
   "metadata": {
    "pycharm": {
     "name": "#%% md\n"
    }
   },
   "source": [
    "#### Import Source File into DataFrame"
   ]
  },
  {
   "cell_type": "code",
   "execution_count": 28,
   "metadata": {
    "pycharm": {
     "name": "#%%\n"
    }
   },
   "outputs": [],
   "source": [
    "df = pd.read_csv(file_path)"
   ]
  },
  {
   "cell_type": "markdown",
   "metadata": {
    "pycharm": {
     "name": "#%% md\n"
    }
   },
   "source": [
    "### Data Exploration"
   ]
  },
  {
   "cell_type": "code",
   "execution_count": 29,
   "metadata": {
    "pycharm": {
     "name": "#%%\n"
    }
   },
   "outputs": [
    {
     "name": "stdout",
     "output_type": "stream",
     "text": [
      "<class 'pandas.core.frame.DataFrame'>\n",
      "RangeIndex: 7613 entries, 0 to 7612\n",
      "Data columns (total 5 columns):\n",
      " #   Column    Non-Null Count  Dtype \n",
      "---  ------    --------------  ----- \n",
      " 0   id        7613 non-null   int64 \n",
      " 1   keyword   7552 non-null   object\n",
      " 2   location  5080 non-null   object\n",
      " 3   text      7613 non-null   object\n",
      " 4   target    7613 non-null   int64 \n",
      "dtypes: int64(2), object(3)\n",
      "memory usage: 297.5+ KB\n"
     ]
    },
    {
     "data": {
      "text/plain": "(   id keyword location                                               text  \\\n 0   1     NaN      NaN  Our Deeds are the Reason of this #earthquake M...   \n 1   4     NaN      NaN             Forest fire near La Ronge Sask. Canada   \n 2   5     NaN      NaN  All residents asked to 'shelter in place' are ...   \n 3   6     NaN      NaN  13,000 people receive #wildfires evacuation or...   \n 4   7     NaN      NaN  Just got sent this photo from Ruby #Alaska as ...   \n \n    target  \n 0       1  \n 1       1  \n 2       1  \n 3       1  \n 4       1  ,\n (7613, 5),\n None,\n                  id      target\n count   7613.000000  7613.00000\n mean    5441.934848     0.42966\n std     3137.116090     0.49506\n min        1.000000     0.00000\n 25%     2734.000000     0.00000\n 50%     5408.000000     0.00000\n 75%     8146.000000     1.00000\n max    10873.000000     1.00000)"
     },
     "metadata": {},
     "output_type": "display_data"
    }
   ],
   "source": [
    "dataexpl.data_exploration(df)"
   ]
  },
  {
   "cell_type": "markdown",
   "metadata": {
    "pycharm": {
     "name": "#%% md\n"
    }
   },
   "source": [
    "### Data Cleaning"
   ]
  },
  {
   "cell_type": "code",
   "execution_count": 30,
   "metadata": {
    "pycharm": {
     "name": "#%%\n"
    }
   },
   "outputs": [
    {
     "data": {
      "text/plain": "         id keyword location  \\\n0         1     NaN      NaN   \n1         4     NaN      NaN   \n2         5     NaN      NaN   \n3         6     NaN      NaN   \n4         7     NaN      NaN   \n...     ...     ...      ...   \n7608  10869     NaN      NaN   \n7609  10870     NaN      NaN   \n7610  10871     NaN      NaN   \n7611  10872     NaN      NaN   \n7612  10873     NaN      NaN   \n\n                                                   text  target  \\\n0     Our Deeds are the Reason of this #earthquake M...       1   \n1                Forest fire near La Ronge Sask. Canada       1   \n2     All residents asked to 'shelter in place' are ...       1   \n3     13,000 people receive #wildfires evacuation or...       1   \n4     Just got sent this photo from Ruby #Alaska as ...       1   \n...                                                 ...     ...   \n7608  Two giant cranes holding a bridge collapse int...       1   \n7609  @aria_ahrary @TheTawniest The out of control w...       1   \n7610  M1.94 [01:04 UTC]?5km S of Volcano Hawaii. htt...       1   \n7611  Police investigating after an e-bike collided ...       1   \n7612  The Latest: More Homes Razed by Northern Calif...       1   \n\n                                                  clean  \n0     our deeds are the reason this earthquake may a...  \n1                   forest fire near ronge sask  canada  \n2     all residents asked  shelter place  are being ...  \n3            people receive wildfires evacuation ord...  \n4     just got sent this photo from ruby alaska smok...  \n...                                                 ...  \n7608  two giant cranes holding bridge collapse into ...  \n7609  @@@ @@@ the out control wild fires california ...  \n7610                       utc   s volcano hawaii  http  \n7611  police investigating after e bike collided wit...  \n7612  the latest  more homes razed northern californ...  \n\n[7613 rows x 6 columns]",
      "text/html": "<div>\n<style scoped>\n    .dataframe tbody tr th:only-of-type {\n        vertical-align: middle;\n    }\n\n    .dataframe tbody tr th {\n        vertical-align: top;\n    }\n\n    .dataframe thead th {\n        text-align: right;\n    }\n</style>\n<table border=\"1\" class=\"dataframe\">\n  <thead>\n    <tr style=\"text-align: right;\">\n      <th></th>\n      <th>id</th>\n      <th>keyword</th>\n      <th>location</th>\n      <th>text</th>\n      <th>target</th>\n      <th>clean</th>\n    </tr>\n  </thead>\n  <tbody>\n    <tr>\n      <th>0</th>\n      <td>1</td>\n      <td>NaN</td>\n      <td>NaN</td>\n      <td>Our Deeds are the Reason of this #earthquake M...</td>\n      <td>1</td>\n      <td>our deeds are the reason this earthquake may a...</td>\n    </tr>\n    <tr>\n      <th>1</th>\n      <td>4</td>\n      <td>NaN</td>\n      <td>NaN</td>\n      <td>Forest fire near La Ronge Sask. Canada</td>\n      <td>1</td>\n      <td>forest fire near ronge sask  canada</td>\n    </tr>\n    <tr>\n      <th>2</th>\n      <td>5</td>\n      <td>NaN</td>\n      <td>NaN</td>\n      <td>All residents asked to 'shelter in place' are ...</td>\n      <td>1</td>\n      <td>all residents asked  shelter place  are being ...</td>\n    </tr>\n    <tr>\n      <th>3</th>\n      <td>6</td>\n      <td>NaN</td>\n      <td>NaN</td>\n      <td>13,000 people receive #wildfires evacuation or...</td>\n      <td>1</td>\n      <td>people receive wildfires evacuation ord...</td>\n    </tr>\n    <tr>\n      <th>4</th>\n      <td>7</td>\n      <td>NaN</td>\n      <td>NaN</td>\n      <td>Just got sent this photo from Ruby #Alaska as ...</td>\n      <td>1</td>\n      <td>just got sent this photo from ruby alaska smok...</td>\n    </tr>\n    <tr>\n      <th>...</th>\n      <td>...</td>\n      <td>...</td>\n      <td>...</td>\n      <td>...</td>\n      <td>...</td>\n      <td>...</td>\n    </tr>\n    <tr>\n      <th>7608</th>\n      <td>10869</td>\n      <td>NaN</td>\n      <td>NaN</td>\n      <td>Two giant cranes holding a bridge collapse int...</td>\n      <td>1</td>\n      <td>two giant cranes holding bridge collapse into ...</td>\n    </tr>\n    <tr>\n      <th>7609</th>\n      <td>10870</td>\n      <td>NaN</td>\n      <td>NaN</td>\n      <td>@aria_ahrary @TheTawniest The out of control w...</td>\n      <td>1</td>\n      <td>@@@ @@@ the out control wild fires california ...</td>\n    </tr>\n    <tr>\n      <th>7610</th>\n      <td>10871</td>\n      <td>NaN</td>\n      <td>NaN</td>\n      <td>M1.94 [01:04 UTC]?5km S of Volcano Hawaii. htt...</td>\n      <td>1</td>\n      <td>utc   s volcano hawaii  http</td>\n    </tr>\n    <tr>\n      <th>7611</th>\n      <td>10872</td>\n      <td>NaN</td>\n      <td>NaN</td>\n      <td>Police investigating after an e-bike collided ...</td>\n      <td>1</td>\n      <td>police investigating after e bike collided wit...</td>\n    </tr>\n    <tr>\n      <th>7612</th>\n      <td>10873</td>\n      <td>NaN</td>\n      <td>NaN</td>\n      <td>The Latest: More Homes Razed by Northern Calif...</td>\n      <td>1</td>\n      <td>the latest  more homes razed northern californ...</td>\n    </tr>\n  </tbody>\n</table>\n<p>7613 rows × 6 columns</p>\n</div>"
     },
     "metadata": {},
     "output_type": "display_data"
    }
   ],
   "source": [
    "wv.cleaning(df)\n",
    "display(df)"
   ]
  },
  {
   "cell_type": "markdown",
   "metadata": {
    "pycharm": {
     "name": "#%% md\n"
    }
   },
   "source": [
    "### Word-Vectorizer"
   ]
  },
  {
   "cell_type": "code",
   "execution_count": 31,
   "metadata": {
    "pycharm": {
     "name": "#%%\n"
    }
   },
   "outputs": [
    {
     "name": "stdout",
     "output_type": "stream",
     "text": [
      "['i', 'me', 'my', 'myself', 'we', 'our', 'ours', 'ourselves', 'you', \"you're\", \"you've\", \"you'll\", \"you'd\", 'your', 'yours', 'yourself', 'yourselves', 'he', 'him', 'his', 'himself', 'she', \"she's\", 'her', 'hers', 'herself', 'it', \"it's\", 'its', 'itself', 'they', 'them', 'their', 'theirs', 'themselves', 'what', 'which', 'who', 'whom', 'this', 'that', \"that'll\", 'these', 'those', 'am', 'is', 'are', 'was', 'were', 'be', 'been', 'being', 'have', 'has', 'had', 'having', 'do', 'does', 'did', 'doing', 'a', 'an', 'the', 'and', 'but', 'if', 'or', 'because', 'as', 'until', 'while', 'of', 'at', 'by', 'for', 'with', 'about', 'against', 'between', 'into', 'through', 'during', 'before', 'after', 'above', 'below', 'to', 'from', 'up', 'down', 'in', 'out', 'on', 'off', 'over', 'under', 'again', 'further', 'then', 'once', 'here', 'there', 'when', 'where', 'why', 'how', 'all', 'any', 'both', 'each', 'few', 'more', 'most', 'other', 'some', 'such', 'no', 'nor', 'not', 'only', 'own', 'same', 'so', 'than', 'too', 'very', 's', 't', 'can', 'will', 'just', 'don', \"don't\", 'should', \"should've\", 'now', 'd', 'll', 'm', 'o', 're', 've', 'y', 'ain', 'aren', \"aren't\", 'couldn', \"couldn't\", 'didn', \"didn't\", 'doesn', \"doesn't\", 'hadn', \"hadn't\", 'hasn', \"hasn't\", 'haven', \"haven't\", 'isn', \"isn't\", 'ma', 'mightn', \"mightn't\", 'mustn', \"mustn't\", 'needn', \"needn't\", 'shan', \"shan't\", 'shouldn', \"shouldn't\", 'wasn', \"wasn't\", 'weren', \"weren't\", 'won', \"won't\", 'wouldn', \"wouldn't\"]\n"
     ]
    },
    {
     "name": "stderr",
     "output_type": "stream",
     "text": [
      "[nltk_data] Downloading package stopwords to /home/sven/nltk_data...\n",
      "[nltk_data]   Package stopwords is already up-to-date!\n",
      "[nltk_data] Downloading package wordnet to /home/sven/nltk_data...\n",
      "[nltk_data]   Package wordnet is already up-to-date!\n"
     ]
    },
    {
     "data": {
      "text/plain": "         id keyword location  \\\n0         1     NaN      NaN   \n1         4     NaN      NaN   \n2         5     NaN      NaN   \n3         6     NaN      NaN   \n4         7     NaN      NaN   \n...     ...     ...      ...   \n7608  10869     NaN      NaN   \n7609  10870     NaN      NaN   \n7610  10871     NaN      NaN   \n7611  10872     NaN      NaN   \n7612  10873     NaN      NaN   \n\n                                                   text  target  \\\n0     Our Deeds are the Reason of this #earthquake M...       1   \n1                Forest fire near La Ronge Sask. Canada       1   \n2     All residents asked to 'shelter in place' are ...       1   \n3     13,000 people receive #wildfires evacuation or...       1   \n4     Just got sent this photo from Ruby #Alaska as ...       1   \n...                                                 ...     ...   \n7608  Two giant cranes holding a bridge collapse int...       1   \n7609  @aria_ahrary @TheTawniest The out of control w...       1   \n7610  M1.94 [01:04 UTC]?5km S of Volcano Hawaii. htt...       1   \n7611  Police investigating after an e-bike collided ...       1   \n7612  The Latest: More Homes Razed by Northern Calif...       1   \n\n                                                  clean  \n0              deed reason earthquake may allah forgive  \n1                    forest fire near ronge sask canada  \n2     resident asked shelter place notified officer ...  \n3     people receive wildfire evacuation order calif...  \n4     got sent photo ruby alaska smoke wildfire pour...  \n...                                                 ...  \n7608  two giant crane holding bridge collapse nearby...  \n7609  @@@ @@@ control wild fire california even nort...  \n7610                            utc volcano hawaii http  \n7611  police investigating e bike collided car littl...  \n7612  latest home razed northern california wildfire...  \n\n[7613 rows x 6 columns]",
      "text/html": "<div>\n<style scoped>\n    .dataframe tbody tr th:only-of-type {\n        vertical-align: middle;\n    }\n\n    .dataframe tbody tr th {\n        vertical-align: top;\n    }\n\n    .dataframe thead th {\n        text-align: right;\n    }\n</style>\n<table border=\"1\" class=\"dataframe\">\n  <thead>\n    <tr style=\"text-align: right;\">\n      <th></th>\n      <th>id</th>\n      <th>keyword</th>\n      <th>location</th>\n      <th>text</th>\n      <th>target</th>\n      <th>clean</th>\n    </tr>\n  </thead>\n  <tbody>\n    <tr>\n      <th>0</th>\n      <td>1</td>\n      <td>NaN</td>\n      <td>NaN</td>\n      <td>Our Deeds are the Reason of this #earthquake M...</td>\n      <td>1</td>\n      <td>deed reason earthquake may allah forgive</td>\n    </tr>\n    <tr>\n      <th>1</th>\n      <td>4</td>\n      <td>NaN</td>\n      <td>NaN</td>\n      <td>Forest fire near La Ronge Sask. Canada</td>\n      <td>1</td>\n      <td>forest fire near ronge sask canada</td>\n    </tr>\n    <tr>\n      <th>2</th>\n      <td>5</td>\n      <td>NaN</td>\n      <td>NaN</td>\n      <td>All residents asked to 'shelter in place' are ...</td>\n      <td>1</td>\n      <td>resident asked shelter place notified officer ...</td>\n    </tr>\n    <tr>\n      <th>3</th>\n      <td>6</td>\n      <td>NaN</td>\n      <td>NaN</td>\n      <td>13,000 people receive #wildfires evacuation or...</td>\n      <td>1</td>\n      <td>people receive wildfire evacuation order calif...</td>\n    </tr>\n    <tr>\n      <th>4</th>\n      <td>7</td>\n      <td>NaN</td>\n      <td>NaN</td>\n      <td>Just got sent this photo from Ruby #Alaska as ...</td>\n      <td>1</td>\n      <td>got sent photo ruby alaska smoke wildfire pour...</td>\n    </tr>\n    <tr>\n      <th>...</th>\n      <td>...</td>\n      <td>...</td>\n      <td>...</td>\n      <td>...</td>\n      <td>...</td>\n      <td>...</td>\n    </tr>\n    <tr>\n      <th>7608</th>\n      <td>10869</td>\n      <td>NaN</td>\n      <td>NaN</td>\n      <td>Two giant cranes holding a bridge collapse int...</td>\n      <td>1</td>\n      <td>two giant crane holding bridge collapse nearby...</td>\n    </tr>\n    <tr>\n      <th>7609</th>\n      <td>10870</td>\n      <td>NaN</td>\n      <td>NaN</td>\n      <td>@aria_ahrary @TheTawniest The out of control w...</td>\n      <td>1</td>\n      <td>@@@ @@@ control wild fire california even nort...</td>\n    </tr>\n    <tr>\n      <th>7610</th>\n      <td>10871</td>\n      <td>NaN</td>\n      <td>NaN</td>\n      <td>M1.94 [01:04 UTC]?5km S of Volcano Hawaii. htt...</td>\n      <td>1</td>\n      <td>utc volcano hawaii http</td>\n    </tr>\n    <tr>\n      <th>7611</th>\n      <td>10872</td>\n      <td>NaN</td>\n      <td>NaN</td>\n      <td>Police investigating after an e-bike collided ...</td>\n      <td>1</td>\n      <td>police investigating e bike collided car littl...</td>\n    </tr>\n    <tr>\n      <th>7612</th>\n      <td>10873</td>\n      <td>NaN</td>\n      <td>NaN</td>\n      <td>The Latest: More Homes Razed by Northern Calif...</td>\n      <td>1</td>\n      <td>latest home razed northern california wildfire...</td>\n    </tr>\n  </tbody>\n</table>\n<p>7613 rows × 6 columns</p>\n</div>"
     },
     "metadata": {},
     "output_type": "display_data"
    }
   ],
   "source": [
    "wv.lemmatizer(df)\n",
    "display(df)"
   ]
  },
  {
   "cell_type": "code",
   "execution_count": 32,
   "metadata": {
    "pycharm": {
     "name": "#%%\n"
    }
   },
   "outputs": [
    {
     "name": "stdout",
     "output_type": "stream",
     "text": [
      "X_train  (6090, 12477)\n",
      "y_train  (6090, 1)\n",
      "X_test   (1523, 12477)\n",
      "y_test   (1523, 1)\n",
      "matrix shape (1523, 12477)\n",
      "y shape (1523,)\n",
      "accuracy_score 0.81\n"
     ]
    },
    {
     "name": "stderr",
     "output_type": "stream",
     "text": [
      "/home/sven/.pyenv/versions/venv/lib/python3.8/site-packages/sklearn/utils/validation.py:72: DataConversionWarning: A column-vector y was passed when a 1d array was expected. Please change the shape of y to (n_samples, ), for example using ravel().\n",
      "  return f(**kwargs)\n"
     ]
    },
    {
     "data": {
      "text/plain": "         id keyword location  \\\n2         5     NaN      NaN   \n10       16     NaN      NaN   \n12       18     NaN      NaN   \n19       28     NaN      NaN   \n24       36     NaN      NaN   \n...     ...     ...      ...   \n7591  10846     NaN      NaN   \n7598  10853     NaN      NaN   \n7605  10864     NaN      NaN   \n7606  10866     NaN      NaN   \n7612  10873     NaN      NaN   \n\n                                                   text  target  \\\n2     All residents asked to 'shelter in place' are ...       1   \n10          Three people died from the heat wave so far       1   \n12    #raining #flooding #Florida #TampaBay #Tampa 1...       1   \n19                         What a goooooooaaaaaal!!!!!!       0   \n24                                             LOOOOOOL       0   \n...                                                 ...     ...   \n7591  Heat wave warning aa? Ayyo dei. Just when I pl...       1   \n7598  Father-of-three Lost Control of Car After Over...       1   \n7605  on the flip side I'm at Walmart and there is a...       1   \n7606  Suicide bomber kills 15 in Saudi security site...       1   \n7612  The Latest: More Homes Razed by Northern Calif...       1   \n\n                                                  clean  y_pred  \n2     resident asked shelter place notified officer ...       1  \n10                      three people died heat wave far       1  \n12    raining flooding florida tampabay tampa day lo...       1  \n19                                      goooooooaaaaaal       0  \n24                                             looooool       0  \n...                                                 ...     ...  \n7591  heat wave warning ayyo dei plan visit friend year       1  \n7598  father three lost control car overtaking colli...       1  \n7605  flip side walmart bomb everyone evacuate stay ...       1  \n7606  suicide bomber kill saudi security site mosque...       1  \n7612  latest home razed northern california wildfire...       1  \n\n[1523 rows x 7 columns]",
      "text/html": "<div>\n<style scoped>\n    .dataframe tbody tr th:only-of-type {\n        vertical-align: middle;\n    }\n\n    .dataframe tbody tr th {\n        vertical-align: top;\n    }\n\n    .dataframe thead th {\n        text-align: right;\n    }\n</style>\n<table border=\"1\" class=\"dataframe\">\n  <thead>\n    <tr style=\"text-align: right;\">\n      <th></th>\n      <th>id</th>\n      <th>keyword</th>\n      <th>location</th>\n      <th>text</th>\n      <th>target</th>\n      <th>clean</th>\n      <th>y_pred</th>\n    </tr>\n  </thead>\n  <tbody>\n    <tr>\n      <th>2</th>\n      <td>5</td>\n      <td>NaN</td>\n      <td>NaN</td>\n      <td>All residents asked to 'shelter in place' are ...</td>\n      <td>1</td>\n      <td>resident asked shelter place notified officer ...</td>\n      <td>1</td>\n    </tr>\n    <tr>\n      <th>10</th>\n      <td>16</td>\n      <td>NaN</td>\n      <td>NaN</td>\n      <td>Three people died from the heat wave so far</td>\n      <td>1</td>\n      <td>three people died heat wave far</td>\n      <td>1</td>\n    </tr>\n    <tr>\n      <th>12</th>\n      <td>18</td>\n      <td>NaN</td>\n      <td>NaN</td>\n      <td>#raining #flooding #Florida #TampaBay #Tampa 1...</td>\n      <td>1</td>\n      <td>raining flooding florida tampabay tampa day lo...</td>\n      <td>1</td>\n    </tr>\n    <tr>\n      <th>19</th>\n      <td>28</td>\n      <td>NaN</td>\n      <td>NaN</td>\n      <td>What a goooooooaaaaaal!!!!!!</td>\n      <td>0</td>\n      <td>goooooooaaaaaal</td>\n      <td>0</td>\n    </tr>\n    <tr>\n      <th>24</th>\n      <td>36</td>\n      <td>NaN</td>\n      <td>NaN</td>\n      <td>LOOOOOOL</td>\n      <td>0</td>\n      <td>looooool</td>\n      <td>0</td>\n    </tr>\n    <tr>\n      <th>...</th>\n      <td>...</td>\n      <td>...</td>\n      <td>...</td>\n      <td>...</td>\n      <td>...</td>\n      <td>...</td>\n      <td>...</td>\n    </tr>\n    <tr>\n      <th>7591</th>\n      <td>10846</td>\n      <td>NaN</td>\n      <td>NaN</td>\n      <td>Heat wave warning aa? Ayyo dei. Just when I pl...</td>\n      <td>1</td>\n      <td>heat wave warning ayyo dei plan visit friend year</td>\n      <td>1</td>\n    </tr>\n    <tr>\n      <th>7598</th>\n      <td>10853</td>\n      <td>NaN</td>\n      <td>NaN</td>\n      <td>Father-of-three Lost Control of Car After Over...</td>\n      <td>1</td>\n      <td>father three lost control car overtaking colli...</td>\n      <td>1</td>\n    </tr>\n    <tr>\n      <th>7605</th>\n      <td>10864</td>\n      <td>NaN</td>\n      <td>NaN</td>\n      <td>on the flip side I'm at Walmart and there is a...</td>\n      <td>1</td>\n      <td>flip side walmart bomb everyone evacuate stay ...</td>\n      <td>1</td>\n    </tr>\n    <tr>\n      <th>7606</th>\n      <td>10866</td>\n      <td>NaN</td>\n      <td>NaN</td>\n      <td>Suicide bomber kills 15 in Saudi security site...</td>\n      <td>1</td>\n      <td>suicide bomber kill saudi security site mosque...</td>\n      <td>1</td>\n    </tr>\n    <tr>\n      <th>7612</th>\n      <td>10873</td>\n      <td>NaN</td>\n      <td>NaN</td>\n      <td>The Latest: More Homes Razed by Northern Calif...</td>\n      <td>1</td>\n      <td>latest home razed northern california wildfire...</td>\n      <td>1</td>\n    </tr>\n  </tbody>\n</table>\n<p>1523 rows × 7 columns</p>\n</div>"
     },
     "metadata": {},
     "output_type": "display_data"
    }
   ],
   "source": [
    "X_train, X_test, y_train, y_test = wv.vectorizer(df)\n",
    "\n",
    "df_test = wv.modeler(df, X_train, X_test, y_train, y_test)\n",
    "display(df_test)"
   ]
  },
  {
   "cell_type": "markdown",
   "metadata": {
    "pycharm": {
     "name": "#%% md\n"
    }
   },
   "source": [
    "### Random Tree"
   ]
  },
  {
   "cell_type": "code",
   "execution_count": 33,
   "metadata": {
    "pycharm": {
     "name": "#%%\n"
    }
   },
   "outputs": [],
   "source": [
    "X = wv.simple_vectorizer(df)\n",
    "y = df['target']"
   ]
  },
  {
   "cell_type": "code",
   "execution_count": 34,
   "metadata": {
    "pycharm": {
     "name": "#%%\n"
    }
   },
   "outputs": [
    {
     "data": {
      "text/plain": "(6090, 12477)"
     },
     "metadata": {},
     "output_type": "display_data"
    },
    {
     "data": {
      "text/plain": "(1523, 12477)"
     },
     "metadata": {},
     "output_type": "display_data"
    },
    {
     "data": {
      "text/plain": "(6090,)"
     },
     "metadata": {},
     "output_type": "display_data"
    },
    {
     "data": {
      "text/plain": "(1523,)"
     },
     "metadata": {},
     "output_type": "display_data"
    }
   ],
   "source": [
    "X_train, X_test, y_train, y_test = train_test_split(X, y, test_size=0.2, random_state=42)\n",
    "display(X_train.shape, X_test.shape, y_train.shape, y_test.shape)"
   ]
  },
  {
   "cell_type": "code",
   "execution_count": 35,
   "metadata": {
    "pycharm": {
     "name": "#%%\n"
    }
   },
   "outputs": [
    {
     "name": "stdout",
     "output_type": "stream",
     "text": [
      "Model: DecisionTreeClassifier()\n",
      "Training set score: 0.986863711001642\n",
      "CV score: 0.7415435139573071\n",
      "Model: AdaBoostClassifier()\n",
      "Training set score: 0.7656814449917898\n",
      "CV score: 0.7380952380952381\n"
     ]
    },
    {
     "data": {
      "text/plain": "'DecisionTreeClassifier: [1 0 1 ... 0 1 1]'"
     },
     "metadata": {},
     "output_type": "display_data"
    },
    {
     "data": {
      "text/plain": "'AdaBoostClassifier: [1 0 1 ... 0 1 0]'"
     },
     "metadata": {},
     "output_type": "display_data"
    }
   ],
   "source": [
    "display(f'DecisionTreeClassifier: {decision_trees.cvs_decision_tree(X_train, y_train)}')\n",
    "display(f'AdaBoostClassifier: {decision_trees.csv_adaboost(X_train, y_train)}')\n",
    "\n",
    "## Probleme local mit py xgboost / check later\n",
    "# print('xgboost:' , decision_trees.csv_xgboost(X_train, y_train))"
   ]
  },
  {
   "cell_type": "markdown",
   "metadata": {
    "pycharm": {
     "name": "#%% md\n"
    }
   },
   "source": [
    "### Playing with Pipelines"
   ]
  },
  {
   "cell_type": "code",
   "execution_count": 36,
   "metadata": {},
   "outputs": [
    {
     "data": {
      "text/plain": "(6090,)"
     },
     "metadata": {},
     "output_type": "display_data"
    },
    {
     "data": {
      "text/plain": "(1523,)"
     },
     "metadata": {},
     "output_type": "display_data"
    },
    {
     "data": {
      "text/plain": "(6090,)"
     },
     "metadata": {},
     "output_type": "display_data"
    },
    {
     "data": {
      "text/plain": "(1523,)"
     },
     "metadata": {},
     "output_type": "display_data"
    }
   ],
   "source": [
    "# todo: mix other features\n",
    "\n",
    "X = df.clean\n",
    "y = df['target']\n",
    "\n",
    "X_train, X_test, y_train, y_test = train_test_split(X, y, test_size=0.2, random_state=42)\n",
    "display(X_train.shape, X_test.shape, y_train.shape, y_test.shape)"
   ]
  },
  {
   "cell_type": "markdown",
   "metadata": {
    "pycharm": {
     "name": "#%% md\n"
    }
   },
   "source": [
    "#### Conusion Matrix  TfidfVectorizer"
   ]
  },
  {
   "cell_type": "code",
   "execution_count": 41,
   "metadata": {
    "pycharm": {
     "name": "#%%\n"
    }
   },
   "outputs": [
    {
     "data": {
      "text/plain": "'MultinomialNB cross_val_score, TfidfVectorizer : 0.7967159277504104'"
     },
     "metadata": {},
     "output_type": "display_data"
    },
    {
     "data": {
      "text/plain": "'accuracy_score: TfidfVectorizer 0.8017071569271176'"
     },
     "metadata": {},
     "output_type": "display_data"
    },
    {
     "data": {
      "text/plain": "'Confusion Matrix: '"
     },
     "metadata": {},
     "output_type": "display_data"
    },
    {
     "name": "stdout",
     "output_type": "stream",
     "text": [
      "true negatives:779, false positives:95, \n",
      " false negatives:207, true positives:442\n",
      "\n",
      "Recall: 0.6810477657935285\n"
     ]
    }
   ],
   "source": [
    "pipe_tf = Pipeline(steps=[\n",
    "    ('data_vec', TfidfVectorizer()),\n",
    "    ('model', MultinomialNB())\n",
    "])\n",
    "display(f'MultinomialNB cross_val_score, TfidfVectorizer : {cross_val_score(pipe_tf, X_train, y_train).mean()}')\n",
    "\n",
    "pipe_tf.fit(X_train, y_train)\n",
    "pipeline_preds = pipe_tf.predict(X_test)\n",
    "display('accuracy_score: TfidfVectorizer {}'.format(accuracy_score(y_test, pipeline_preds)))\n",
    "val_confusion_matrix = confusion_matrix(y_test, pipeline_preds)\n",
    "tn, fp, fn, tp = val_confusion_matrix.ravel()\n",
    "display(f'Confusion Matrix: ')\n",
    "print( f'true negatives:{tn}, false positives:{fp}, \\n false negatives:{fn}, true positives:{tp}')\n",
    "recall = tp/(tp+fn)\n",
    "print()\n",
    "print('Recall:', recall)"
   ]
  },
  {
   "cell_type": "markdown",
   "metadata": {
    "pycharm": {
     "name": "#%% md\n"
    }
   },
   "source": [
    "#### Conusion Matrix  CountVectorizer"
   ]
  },
  {
   "cell_type": "code",
   "execution_count": 43,
   "metadata": {
    "pycharm": {
     "name": "#%%\n"
    }
   },
   "outputs": [
    {
     "data": {
      "text/plain": "'MultinomialNB cross_val_score, CountVectorizer : 0.7970443349753695'"
     },
     "metadata": {},
     "output_type": "display_data"
    },
    {
     "data": {
      "text/plain": "'accuracy_score: CountVectorizer 0.7977675640183848'"
     },
     "metadata": {},
     "output_type": "display_data"
    },
    {
     "data": {
      "text/plain": "'Confusion Matrix: '"
     },
     "metadata": {},
     "output_type": "display_data"
    },
    {
     "name": "stdout",
     "output_type": "stream",
     "text": [
      "true negatives:740, false positives:134, \n",
      " false negatives:174, true positives:475\n",
      "\n",
      "Recall: 0.7318952234206472\n"
     ]
    }
   ],
   "source": [
    "pipe_cv = Pipeline(steps=[\n",
    "    ('data_cv', CountVectorizer()),\n",
    "    ('model', MultinomialNB())\n",
    "])\n",
    "display(f'MultinomialNB cross_val_score, CountVectorizer : {cross_val_score(pipe_cv,  X_train, y_train).mean()}')\n",
    "\n",
    "pipe_cv.fit(X_train, y_train)\n",
    "pipeline_preds = pipe_cv.predict(X_test)\n",
    "display('accuracy_score: CountVectorizer {}'.format(accuracy_score(y_test, pipeline_preds)))\n",
    "val_confusion_matrix = confusion_matrix(y_test, pipeline_preds)\n",
    "tn, fp, fn, tp = val_confusion_matrix.ravel()\n",
    "display(f'Confusion Matrix: ')\n",
    "print( f'true negatives:{tn}, false positives:{fp}, \\n false negatives:{fn}, true positives:{tp}')\n",
    "recall = tp/(tp+fn)\n",
    "print()\n",
    "print('Recall:', recall)\n"
   ]
  },
  {
   "cell_type": "markdown",
   "source": [
    "#### Conusion Matrix - count vectorizer and tfidf transformer"
   ],
   "metadata": {
    "collapsed": false
   }
  },
  {
   "cell_type": "code",
   "execution_count": 44,
   "outputs": [
    {
     "data": {
      "text/plain": "'MultinomialNB cross_val_score, pipe_comb : 0.7967159277504104'"
     },
     "metadata": {},
     "output_type": "display_data"
    },
    {
     "data": {
      "text/plain": "'accuracy_score: combined 0.8017071569271176'"
     },
     "metadata": {},
     "output_type": "display_data"
    },
    {
     "data": {
      "text/plain": "'Confusion Matrix: '"
     },
     "metadata": {},
     "output_type": "display_data"
    },
    {
     "name": "stdout",
     "output_type": "stream",
     "text": [
      "true negatives:779, false positives:95, \n",
      " false negatives:207, true positives:442\n",
      "\n",
      "Recall: 0.6810477657935285\n"
     ]
    }
   ],
   "source": [
    "pipe_comb = Pipeline(steps=[\n",
    "    ('vect', CountVectorizer()),\n",
    "    ('tfidf', TfidfTransformer(use_idf=True)),\n",
    "    ('model', MultinomialNB())\n",
    "])\n",
    "display(f'MultinomialNB cross_val_score, pipe_comb : {cross_val_score(pipe_comb,  X_train, y_train).mean()}')\n",
    "\n",
    "pipe_comb.fit(X_train, y_train)\n",
    "pipeline_preds = pipe_comb.predict(X_test)\n",
    "display('accuracy_score: combined {}'.format(accuracy_score(y_test, pipeline_preds)))\n",
    "val_confusion_matrix = confusion_matrix(y_test, pipeline_preds)\n",
    "tn, fp, fn, tp = val_confusion_matrix.ravel()\n",
    "display(f'Confusion Matrix: ')\n",
    "print( f'true negatives:{tn}, false positives:{fp}, \\n false negatives:{fn}, true positives:{tp}')\n",
    "recall = tp/(tp+fn)\n",
    "print()\n",
    "print('Recall:', recall)"
   ],
   "metadata": {
    "collapsed": false,
    "pycharm": {
     "name": "#%%\n"
    }
   }
  }
 ],
 "metadata": {
  "colab": {
   "name": "main.ipynb",
   "provenance": []
  },
  "kernelspec": {
   "name": "pycharm-67da7393",
   "language": "python",
   "display_name": "PyCharm (Twitter-Disaster-Detection)"
  },
  "language_info": {
   "codemirror_mode": {
    "name": "ipython",
    "version": 3
   },
   "file_extension": ".py",
   "mimetype": "text/x-python",
   "name": "python",
   "nbconvert_exporter": "python",
   "pygments_lexer": "ipython3",
   "version": "3.8.3"
  }
 },
 "nbformat": 4,
 "nbformat_minor": 1
}