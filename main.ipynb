{
 "nbformat": 4,
 "nbformat_minor": 0,
 "metadata": {
  "kernelspec": {
   "name": "pycharm-67da7393",
   "language": "python",
   "display_name": "PyCharm (Twitter-Disaster-Detection)"
  },
  "language_info": {
   "codemirror_mode": {
    "name": "ipython",
    "version": 3
   },
   "file_extension": ".py",
   "mimetype": "text/x-python",
   "name": "python",
   "nbconvert_exporter": "python",
   "pygments_lexer": "ipython3",
   "version": "3.8.3"
  },
  "colab": {
   "name": "main.ipynb",
   "provenance": []
  }
 },
 "cells": [
  {
   "cell_type": "code",
   "metadata": {
    "id": "hMxEkRkhtFlO",
    "outputId": "147a97f1-771b-4cfd-ca7c-eb7fbbc119aa"
   },
   "source": [
    "import pandas as pd\n",
    "from IPython.display import display\n",
    "import configparser\n",
    "import modules.test as tst\n",
    "import modules.pred_word_vectorizer as wv\n",
    "import modules.pred_decision_trees as decision_trees\n",
    "from sklearn.model_selection import train_test_split\n",
    "\n",
    "settings = configparser.ConfigParser()\n",
    "settings.read('main.ini')\n",
    "\n",
    "file_path = settings['FILE']['file']\n",
    "\n",
    "df = pd.read_csv(file_path)\n",
    "\n",
    "tst.import_test()\n",
    "display(df)\n",
    "\n"
   ],
   "execution_count": 18,
   "outputs": [
    {
     "data": {
      "text/plain": "'test'"
     },
     "metadata": {},
     "output_type": "display_data"
    },
    {
     "data": {
      "text/plain": "         id keyword location  \\\n0         1     NaN      NaN   \n1         4     NaN      NaN   \n2         5     NaN      NaN   \n3         6     NaN      NaN   \n4         7     NaN      NaN   \n...     ...     ...      ...   \n7608  10869     NaN      NaN   \n7609  10870     NaN      NaN   \n7610  10871     NaN      NaN   \n7611  10872     NaN      NaN   \n7612  10873     NaN      NaN   \n\n                                                   text  target  \n0     Our Deeds are the Reason of this #earthquake M...       1  \n1                Forest fire near La Ronge Sask. Canada       1  \n2     All residents asked to 'shelter in place' are ...       1  \n3     13,000 people receive #wildfires evacuation or...       1  \n4     Just got sent this photo from Ruby #Alaska as ...       1  \n...                                                 ...     ...  \n7608  Two giant cranes holding a bridge collapse int...       1  \n7609  @aria_ahrary @TheTawniest The out of control w...       1  \n7610  M1.94 [01:04 UTC]?5km S of Volcano Hawaii. htt...       1  \n7611  Police investigating after an e-bike collided ...       1  \n7612  The Latest: More Homes Razed by Northern Calif...       1  \n\n[7613 rows x 5 columns]",
      "text/html": "<div>\n<style scoped>\n    .dataframe tbody tr th:only-of-type {\n        vertical-align: middle;\n    }\n\n    .dataframe tbody tr th {\n        vertical-align: top;\n    }\n\n    .dataframe thead th {\n        text-align: right;\n    }\n</style>\n<table border=\"1\" class=\"dataframe\">\n  <thead>\n    <tr style=\"text-align: right;\">\n      <th></th>\n      <th>id</th>\n      <th>keyword</th>\n      <th>location</th>\n      <th>text</th>\n      <th>target</th>\n    </tr>\n  </thead>\n  <tbody>\n    <tr>\n      <th>0</th>\n      <td>1</td>\n      <td>NaN</td>\n      <td>NaN</td>\n      <td>Our Deeds are the Reason of this #earthquake M...</td>\n      <td>1</td>\n    </tr>\n    <tr>\n      <th>1</th>\n      <td>4</td>\n      <td>NaN</td>\n      <td>NaN</td>\n      <td>Forest fire near La Ronge Sask. Canada</td>\n      <td>1</td>\n    </tr>\n    <tr>\n      <th>2</th>\n      <td>5</td>\n      <td>NaN</td>\n      <td>NaN</td>\n      <td>All residents asked to 'shelter in place' are ...</td>\n      <td>1</td>\n    </tr>\n    <tr>\n      <th>3</th>\n      <td>6</td>\n      <td>NaN</td>\n      <td>NaN</td>\n      <td>13,000 people receive #wildfires evacuation or...</td>\n      <td>1</td>\n    </tr>\n    <tr>\n      <th>4</th>\n      <td>7</td>\n      <td>NaN</td>\n      <td>NaN</td>\n      <td>Just got sent this photo from Ruby #Alaska as ...</td>\n      <td>1</td>\n    </tr>\n    <tr>\n      <th>...</th>\n      <td>...</td>\n      <td>...</td>\n      <td>...</td>\n      <td>...</td>\n      <td>...</td>\n    </tr>\n    <tr>\n      <th>7608</th>\n      <td>10869</td>\n      <td>NaN</td>\n      <td>NaN</td>\n      <td>Two giant cranes holding a bridge collapse int...</td>\n      <td>1</td>\n    </tr>\n    <tr>\n      <th>7609</th>\n      <td>10870</td>\n      <td>NaN</td>\n      <td>NaN</td>\n      <td>@aria_ahrary @TheTawniest The out of control w...</td>\n      <td>1</td>\n    </tr>\n    <tr>\n      <th>7610</th>\n      <td>10871</td>\n      <td>NaN</td>\n      <td>NaN</td>\n      <td>M1.94 [01:04 UTC]?5km S of Volcano Hawaii. htt...</td>\n      <td>1</td>\n    </tr>\n    <tr>\n      <th>7611</th>\n      <td>10872</td>\n      <td>NaN</td>\n      <td>NaN</td>\n      <td>Police investigating after an e-bike collided ...</td>\n      <td>1</td>\n    </tr>\n    <tr>\n      <th>7612</th>\n      <td>10873</td>\n      <td>NaN</td>\n      <td>NaN</td>\n      <td>The Latest: More Homes Razed by Northern Calif...</td>\n      <td>1</td>\n    </tr>\n  </tbody>\n</table>\n<p>7613 rows × 5 columns</p>\n</div>"
     },
     "metadata": {},
     "output_type": "display_data"
    }
   ]
  },
  {
   "cell_type": "code",
   "metadata": {
    "id": "rQYrVUaDuckT"
   },
   "source": [
    "wv.cleaning(df)\n",
    "df"
   ],
   "execution_count": 20,
   "outputs": [
    {
     "data": {
      "text/plain": "         id  keyword                       location  \\\n31       48   ablaze                     Birmingham   \n32       49   ablaze  Est. September 2012 - Bristol   \n33       50   ablaze                         AFRICA   \n34       52   ablaze               Philadelphia, PA   \n35       53   ablaze                     London, UK   \n...     ...      ...                            ...   \n7578  10830  wrecked                            NaN   \n7579  10831  wrecked              Vancouver, Canada   \n7580  10832  wrecked                        London    \n7581  10833  wrecked                        Lincoln   \n7582  10834  wrecked                            NaN   \n\n                                                   text  target  \\\n31    @bbcmtd Wholesale Markets ablaze http://t.co/l...       1   \n32    We always try to bring the heavy. #metal #RT h...       0   \n33    #AFRICANBAZE: Breaking news:Nigeria flag set a...       1   \n34                   Crying out for more! Set me ablaze       0   \n35    On plus side LOOK AT THE SKY LAST NIGHT IT WAS...       0   \n...                                                 ...     ...   \n7578   @jt_ruff23 @cameronhacker and I wrecked you both       0   \n7579  Three days off from work and they've pretty mu...       0   \n7580  #FX #forex #trading Cramer: Iger's 3 words tha...       0   \n7581  @engineshed Great atmosphere at the British Li...       0   \n7582  Cramer: Iger's 3 words that wrecked Disney's s...       0   \n\n                                                  clean  \n31                    @@@ wholesale markets ablaze http  \n32               always try bring the heavy  metal http  \n33    africanbaze  breaking news nigeria flag set ab...  \n34                      crying out for more  set ablaze  \n35     plus side look the sky last night was ablaze ...  \n...                                                 ...  \n7578                       @@@ @@@ and wrecked you both  \n7579  three days off from work and they pretty much ...  \n7580   forex trading cramer  iger   words that wreck...  \n7581  @@@ great atmosphere the british lion gig toni...  \n7582  cramer  iger   words that wrecked disney stock...  \n\n[7552 rows x 6 columns]",
      "text/html": "<div>\n<style scoped>\n    .dataframe tbody tr th:only-of-type {\n        vertical-align: middle;\n    }\n\n    .dataframe tbody tr th {\n        vertical-align: top;\n    }\n\n    .dataframe thead th {\n        text-align: right;\n    }\n</style>\n<table border=\"1\" class=\"dataframe\">\n  <thead>\n    <tr style=\"text-align: right;\">\n      <th></th>\n      <th>id</th>\n      <th>keyword</th>\n      <th>location</th>\n      <th>text</th>\n      <th>target</th>\n      <th>clean</th>\n    </tr>\n  </thead>\n  <tbody>\n    <tr>\n      <th>31</th>\n      <td>48</td>\n      <td>ablaze</td>\n      <td>Birmingham</td>\n      <td>@bbcmtd Wholesale Markets ablaze http://t.co/l...</td>\n      <td>1</td>\n      <td>@@@ wholesale markets ablaze http</td>\n    </tr>\n    <tr>\n      <th>32</th>\n      <td>49</td>\n      <td>ablaze</td>\n      <td>Est. September 2012 - Bristol</td>\n      <td>We always try to bring the heavy. #metal #RT h...</td>\n      <td>0</td>\n      <td>always try bring the heavy  metal http</td>\n    </tr>\n    <tr>\n      <th>33</th>\n      <td>50</td>\n      <td>ablaze</td>\n      <td>AFRICA</td>\n      <td>#AFRICANBAZE: Breaking news:Nigeria flag set a...</td>\n      <td>1</td>\n      <td>africanbaze  breaking news nigeria flag set ab...</td>\n    </tr>\n    <tr>\n      <th>34</th>\n      <td>52</td>\n      <td>ablaze</td>\n      <td>Philadelphia, PA</td>\n      <td>Crying out for more! Set me ablaze</td>\n      <td>0</td>\n      <td>crying out for more  set ablaze</td>\n    </tr>\n    <tr>\n      <th>35</th>\n      <td>53</td>\n      <td>ablaze</td>\n      <td>London, UK</td>\n      <td>On plus side LOOK AT THE SKY LAST NIGHT IT WAS...</td>\n      <td>0</td>\n      <td>plus side look the sky last night was ablaze ...</td>\n    </tr>\n    <tr>\n      <th>...</th>\n      <td>...</td>\n      <td>...</td>\n      <td>...</td>\n      <td>...</td>\n      <td>...</td>\n      <td>...</td>\n    </tr>\n    <tr>\n      <th>7578</th>\n      <td>10830</td>\n      <td>wrecked</td>\n      <td>NaN</td>\n      <td>@jt_ruff23 @cameronhacker and I wrecked you both</td>\n      <td>0</td>\n      <td>@@@ @@@ and wrecked you both</td>\n    </tr>\n    <tr>\n      <th>7579</th>\n      <td>10831</td>\n      <td>wrecked</td>\n      <td>Vancouver, Canada</td>\n      <td>Three days off from work and they've pretty mu...</td>\n      <td>0</td>\n      <td>three days off from work and they pretty much ...</td>\n    </tr>\n    <tr>\n      <th>7580</th>\n      <td>10832</td>\n      <td>wrecked</td>\n      <td>London</td>\n      <td>#FX #forex #trading Cramer: Iger's 3 words tha...</td>\n      <td>0</td>\n      <td>forex trading cramer  iger   words that wreck...</td>\n    </tr>\n    <tr>\n      <th>7581</th>\n      <td>10833</td>\n      <td>wrecked</td>\n      <td>Lincoln</td>\n      <td>@engineshed Great atmosphere at the British Li...</td>\n      <td>0</td>\n      <td>@@@ great atmosphere the british lion gig toni...</td>\n    </tr>\n    <tr>\n      <th>7582</th>\n      <td>10834</td>\n      <td>wrecked</td>\n      <td>NaN</td>\n      <td>Cramer: Iger's 3 words that wrecked Disney's s...</td>\n      <td>0</td>\n      <td>cramer  iger   words that wrecked disney stock...</td>\n    </tr>\n  </tbody>\n</table>\n<p>7552 rows × 6 columns</p>\n</div>"
     },
     "execution_count": 20,
     "metadata": {},
     "output_type": "execute_result"
    }
   ]
  },
  {
   "cell_type": "code",
   "metadata": {
    "id": "PrX-LD06tFlZ"
   },
   "source": [
    "wv.lemmatizer(df)\n",
    "df"
   ],
   "execution_count": 21,
   "outputs": [
    {
     "name": "stderr",
     "output_type": "stream",
     "text": [
      "[nltk_data] Downloading package stopwords to /home/sven/nltk_data...\n",
      "[nltk_data]   Package stopwords is already up-to-date!\n",
      "[nltk_data] Downloading package wordnet to /home/sven/nltk_data...\n",
      "[nltk_data]   Package wordnet is already up-to-date!\n"
     ]
    },
    {
     "name": "stdout",
     "output_type": "stream",
     "text": [
      "['i', 'me', 'my', 'myself', 'we', 'our', 'ours', 'ourselves', 'you', \"you're\", \"you've\", \"you'll\", \"you'd\", 'your', 'yours', 'yourself', 'yourselves', 'he', 'him', 'his', 'himself', 'she', \"she's\", 'her', 'hers', 'herself', 'it', \"it's\", 'its', 'itself', 'they', 'them', 'their', 'theirs', 'themselves', 'what', 'which', 'who', 'whom', 'this', 'that', \"that'll\", 'these', 'those', 'am', 'is', 'are', 'was', 'were', 'be', 'been', 'being', 'have', 'has', 'had', 'having', 'do', 'does', 'did', 'doing', 'a', 'an', 'the', 'and', 'but', 'if', 'or', 'because', 'as', 'until', 'while', 'of', 'at', 'by', 'for', 'with', 'about', 'against', 'between', 'into', 'through', 'during', 'before', 'after', 'above', 'below', 'to', 'from', 'up', 'down', 'in', 'out', 'on', 'off', 'over', 'under', 'again', 'further', 'then', 'once', 'here', 'there', 'when', 'where', 'why', 'how', 'all', 'any', 'both', 'each', 'few', 'more', 'most', 'other', 'some', 'such', 'no', 'nor', 'not', 'only', 'own', 'same', 'so', 'than', 'too', 'very', 's', 't', 'can', 'will', 'just', 'don', \"don't\", 'should', \"should've\", 'now', 'd', 'll', 'm', 'o', 're', 've', 'y', 'ain', 'aren', \"aren't\", 'couldn', \"couldn't\", 'didn', \"didn't\", 'doesn', \"doesn't\", 'hadn', \"hadn't\", 'hasn', \"hasn't\", 'haven', \"haven't\", 'isn', \"isn't\", 'ma', 'mightn', \"mightn't\", 'mustn', \"mustn't\", 'needn', \"needn't\", 'shan', \"shan't\", 'shouldn', \"shouldn't\", 'wasn', \"wasn't\", 'weren', \"weren't\", 'won', \"won't\", 'wouldn', \"wouldn't\"]\n"
     ]
    },
    {
     "data": {
      "text/plain": "         id  keyword                       location  \\\n31       48   ablaze                     Birmingham   \n32       49   ablaze  Est. September 2012 - Bristol   \n33       50   ablaze                         AFRICA   \n34       52   ablaze               Philadelphia, PA   \n35       53   ablaze                     London, UK   \n...     ...      ...                            ...   \n7578  10830  wrecked                            NaN   \n7579  10831  wrecked              Vancouver, Canada   \n7580  10832  wrecked                        London    \n7581  10833  wrecked                        Lincoln   \n7582  10834  wrecked                            NaN   \n\n                                                   text  target  \\\n31    @bbcmtd Wholesale Markets ablaze http://t.co/l...       1   \n32    We always try to bring the heavy. #metal #RT h...       0   \n33    #AFRICANBAZE: Breaking news:Nigeria flag set a...       1   \n34                   Crying out for more! Set me ablaze       0   \n35    On plus side LOOK AT THE SKY LAST NIGHT IT WAS...       0   \n...                                                 ...     ...   \n7578   @jt_ruff23 @cameronhacker and I wrecked you both       0   \n7579  Three days off from work and they've pretty mu...       0   \n7580  #FX #forex #trading Cramer: Iger's 3 words tha...       0   \n7581  @engineshed Great atmosphere at the British Li...       0   \n7582  Cramer: Iger's 3 words that wrecked Disney's s...       0   \n\n                                                  clean  \n31                     @@@ wholesale market ablaze http  \n32                    always try bring heavy metal http  \n33    africanbaze breaking news nigeria flag set abl...  \n34                                       cry set ablaze  \n35            plus side look sky last night ablaze http  \n...                                                 ...  \n7578                                    @@@ @@@ wrecked  \n7579  three day work pretty much wrecked hahaha shou...  \n7580  forex trading cramer iger word wrecked disney ...  \n7581  @@@ great atmosphere british lion gig tonight ...  \n7582    cramer iger word wrecked disney stock cnbc http  \n\n[7552 rows x 6 columns]",
      "text/html": "<div>\n<style scoped>\n    .dataframe tbody tr th:only-of-type {\n        vertical-align: middle;\n    }\n\n    .dataframe tbody tr th {\n        vertical-align: top;\n    }\n\n    .dataframe thead th {\n        text-align: right;\n    }\n</style>\n<table border=\"1\" class=\"dataframe\">\n  <thead>\n    <tr style=\"text-align: right;\">\n      <th></th>\n      <th>id</th>\n      <th>keyword</th>\n      <th>location</th>\n      <th>text</th>\n      <th>target</th>\n      <th>clean</th>\n    </tr>\n  </thead>\n  <tbody>\n    <tr>\n      <th>31</th>\n      <td>48</td>\n      <td>ablaze</td>\n      <td>Birmingham</td>\n      <td>@bbcmtd Wholesale Markets ablaze http://t.co/l...</td>\n      <td>1</td>\n      <td>@@@ wholesale market ablaze http</td>\n    </tr>\n    <tr>\n      <th>32</th>\n      <td>49</td>\n      <td>ablaze</td>\n      <td>Est. September 2012 - Bristol</td>\n      <td>We always try to bring the heavy. #metal #RT h...</td>\n      <td>0</td>\n      <td>always try bring heavy metal http</td>\n    </tr>\n    <tr>\n      <th>33</th>\n      <td>50</td>\n      <td>ablaze</td>\n      <td>AFRICA</td>\n      <td>#AFRICANBAZE: Breaking news:Nigeria flag set a...</td>\n      <td>1</td>\n      <td>africanbaze breaking news nigeria flag set abl...</td>\n    </tr>\n    <tr>\n      <th>34</th>\n      <td>52</td>\n      <td>ablaze</td>\n      <td>Philadelphia, PA</td>\n      <td>Crying out for more! Set me ablaze</td>\n      <td>0</td>\n      <td>cry set ablaze</td>\n    </tr>\n    <tr>\n      <th>35</th>\n      <td>53</td>\n      <td>ablaze</td>\n      <td>London, UK</td>\n      <td>On plus side LOOK AT THE SKY LAST NIGHT IT WAS...</td>\n      <td>0</td>\n      <td>plus side look sky last night ablaze http</td>\n    </tr>\n    <tr>\n      <th>...</th>\n      <td>...</td>\n      <td>...</td>\n      <td>...</td>\n      <td>...</td>\n      <td>...</td>\n      <td>...</td>\n    </tr>\n    <tr>\n      <th>7578</th>\n      <td>10830</td>\n      <td>wrecked</td>\n      <td>NaN</td>\n      <td>@jt_ruff23 @cameronhacker and I wrecked you both</td>\n      <td>0</td>\n      <td>@@@ @@@ wrecked</td>\n    </tr>\n    <tr>\n      <th>7579</th>\n      <td>10831</td>\n      <td>wrecked</td>\n      <td>Vancouver, Canada</td>\n      <td>Three days off from work and they've pretty mu...</td>\n      <td>0</td>\n      <td>three day work pretty much wrecked hahaha shou...</td>\n    </tr>\n    <tr>\n      <th>7580</th>\n      <td>10832</td>\n      <td>wrecked</td>\n      <td>London</td>\n      <td>#FX #forex #trading Cramer: Iger's 3 words tha...</td>\n      <td>0</td>\n      <td>forex trading cramer iger word wrecked disney ...</td>\n    </tr>\n    <tr>\n      <th>7581</th>\n      <td>10833</td>\n      <td>wrecked</td>\n      <td>Lincoln</td>\n      <td>@engineshed Great atmosphere at the British Li...</td>\n      <td>0</td>\n      <td>@@@ great atmosphere british lion gig tonight ...</td>\n    </tr>\n    <tr>\n      <th>7582</th>\n      <td>10834</td>\n      <td>wrecked</td>\n      <td>NaN</td>\n      <td>Cramer: Iger's 3 words that wrecked Disney's s...</td>\n      <td>0</td>\n      <td>cramer iger word wrecked disney stock cnbc http</td>\n    </tr>\n  </tbody>\n</table>\n<p>7552 rows × 6 columns</p>\n</div>"
     },
     "execution_count": 21,
     "metadata": {},
     "output_type": "execute_result"
    }
   ]
  },
  {
   "cell_type": "code",
   "metadata": {
    "id": "GyI6_DUB3rJG"
   },
   "source": [
    "wv.vectorizer(df)\n",
    "df"
   ],
   "execution_count": 22,
   "outputs": [
    {
     "name": "stdout",
     "output_type": "stream",
     "text": [
      "X_train  (6041, 12452)\n",
      "y_train  (6041,)\n",
      "X_test   (1511, 12452)\n",
      "y_test   (1511,)\n",
      "matrix shape (7552, 12452)\n",
      "y shape (7552,)\n",
      "accuracy_score 0.88\n"
     ]
    },
    {
     "data": {
      "text/plain": "         id  keyword                       location  \\\n31       48   ablaze                     Birmingham   \n32       49   ablaze  Est. September 2012 - Bristol   \n33       50   ablaze                         AFRICA   \n34       52   ablaze               Philadelphia, PA   \n35       53   ablaze                     London, UK   \n...     ...      ...                            ...   \n7578  10830  wrecked                            NaN   \n7579  10831  wrecked              Vancouver, Canada   \n7580  10832  wrecked                        London    \n7581  10833  wrecked                        Lincoln   \n7582  10834  wrecked                            NaN   \n\n                                                   text  target  \\\n31    @bbcmtd Wholesale Markets ablaze http://t.co/l...       1   \n32    We always try to bring the heavy. #metal #RT h...       0   \n33    #AFRICANBAZE: Breaking news:Nigeria flag set a...       1   \n34                   Crying out for more! Set me ablaze       0   \n35    On plus side LOOK AT THE SKY LAST NIGHT IT WAS...       0   \n...                                                 ...     ...   \n7578   @jt_ruff23 @cameronhacker and I wrecked you both       0   \n7579  Three days off from work and they've pretty mu...       0   \n7580  #FX #forex #trading Cramer: Iger's 3 words tha...       0   \n7581  @engineshed Great atmosphere at the British Li...       0   \n7582  Cramer: Iger's 3 words that wrecked Disney's s...       0   \n\n                                                  clean  \n31                     @@@ wholesale market ablaze http  \n32                    always try bring heavy metal http  \n33    africanbaze breaking news nigeria flag set abl...  \n34                                       cry set ablaze  \n35            plus side look sky last night ablaze http  \n...                                                 ...  \n7578                                    @@@ @@@ wrecked  \n7579  three day work pretty much wrecked hahaha shou...  \n7580  forex trading cramer iger word wrecked disney ...  \n7581  @@@ great atmosphere british lion gig tonight ...  \n7582    cramer iger word wrecked disney stock cnbc http  \n\n[7552 rows x 6 columns]",
      "text/html": "<div>\n<style scoped>\n    .dataframe tbody tr th:only-of-type {\n        vertical-align: middle;\n    }\n\n    .dataframe tbody tr th {\n        vertical-align: top;\n    }\n\n    .dataframe thead th {\n        text-align: right;\n    }\n</style>\n<table border=\"1\" class=\"dataframe\">\n  <thead>\n    <tr style=\"text-align: right;\">\n      <th></th>\n      <th>id</th>\n      <th>keyword</th>\n      <th>location</th>\n      <th>text</th>\n      <th>target</th>\n      <th>clean</th>\n    </tr>\n  </thead>\n  <tbody>\n    <tr>\n      <th>31</th>\n      <td>48</td>\n      <td>ablaze</td>\n      <td>Birmingham</td>\n      <td>@bbcmtd Wholesale Markets ablaze http://t.co/l...</td>\n      <td>1</td>\n      <td>@@@ wholesale market ablaze http</td>\n    </tr>\n    <tr>\n      <th>32</th>\n      <td>49</td>\n      <td>ablaze</td>\n      <td>Est. September 2012 - Bristol</td>\n      <td>We always try to bring the heavy. #metal #RT h...</td>\n      <td>0</td>\n      <td>always try bring heavy metal http</td>\n    </tr>\n    <tr>\n      <th>33</th>\n      <td>50</td>\n      <td>ablaze</td>\n      <td>AFRICA</td>\n      <td>#AFRICANBAZE: Breaking news:Nigeria flag set a...</td>\n      <td>1</td>\n      <td>africanbaze breaking news nigeria flag set abl...</td>\n    </tr>\n    <tr>\n      <th>34</th>\n      <td>52</td>\n      <td>ablaze</td>\n      <td>Philadelphia, PA</td>\n      <td>Crying out for more! Set me ablaze</td>\n      <td>0</td>\n      <td>cry set ablaze</td>\n    </tr>\n    <tr>\n      <th>35</th>\n      <td>53</td>\n      <td>ablaze</td>\n      <td>London, UK</td>\n      <td>On plus side LOOK AT THE SKY LAST NIGHT IT WAS...</td>\n      <td>0</td>\n      <td>plus side look sky last night ablaze http</td>\n    </tr>\n    <tr>\n      <th>...</th>\n      <td>...</td>\n      <td>...</td>\n      <td>...</td>\n      <td>...</td>\n      <td>...</td>\n      <td>...</td>\n    </tr>\n    <tr>\n      <th>7578</th>\n      <td>10830</td>\n      <td>wrecked</td>\n      <td>NaN</td>\n      <td>@jt_ruff23 @cameronhacker and I wrecked you both</td>\n      <td>0</td>\n      <td>@@@ @@@ wrecked</td>\n    </tr>\n    <tr>\n      <th>7579</th>\n      <td>10831</td>\n      <td>wrecked</td>\n      <td>Vancouver, Canada</td>\n      <td>Three days off from work and they've pretty mu...</td>\n      <td>0</td>\n      <td>three day work pretty much wrecked hahaha shou...</td>\n    </tr>\n    <tr>\n      <th>7580</th>\n      <td>10832</td>\n      <td>wrecked</td>\n      <td>London</td>\n      <td>#FX #forex #trading Cramer: Iger's 3 words tha...</td>\n      <td>0</td>\n      <td>forex trading cramer iger word wrecked disney ...</td>\n    </tr>\n    <tr>\n      <th>7581</th>\n      <td>10833</td>\n      <td>wrecked</td>\n      <td>Lincoln</td>\n      <td>@engineshed Great atmosphere at the British Li...</td>\n      <td>0</td>\n      <td>@@@ great atmosphere british lion gig tonight ...</td>\n    </tr>\n    <tr>\n      <th>7582</th>\n      <td>10834</td>\n      <td>wrecked</td>\n      <td>NaN</td>\n      <td>Cramer: Iger's 3 words that wrecked Disney's s...</td>\n      <td>0</td>\n      <td>cramer iger word wrecked disney stock cnbc http</td>\n    </tr>\n  </tbody>\n</table>\n<p>7552 rows × 6 columns</p>\n</div>"
     },
     "execution_count": 22,
     "metadata": {},
     "output_type": "execute_result"
    }
   ]
  },
  {
   "cell_type": "code",
   "execution_count": 23,
   "outputs": [],
   "source": [
    "X = wv.simple_vectorizer(df)\n",
    "y = df['target']"
   ],
   "metadata": {
    "collapsed": false,
    "pycharm": {
     "name": "#%%\n"
    }
   }
  },
  {
   "cell_type": "code",
   "execution_count": 25,
   "outputs": [
    {
     "name": "stdout",
     "output_type": "stream",
     "text": [
      "(6041, 12452) (1511, 12452) (6041,) (1511,)\n"
     ]
    }
   ],
   "source": [
    "X_train, X_test, y_train, y_test = train_test_split(X, y, test_size=0.2, random_state=42)\n",
    "print(X_train.shape, X_test.shape, y_train.shape, y_test.shape)"
   ],
   "metadata": {
    "collapsed": false,
    "pycharm": {
     "name": "#%%\n"
    }
   }
  },
  {
   "cell_type": "code",
   "execution_count": 26,
   "outputs": [
    {
     "name": "stdout",
     "output_type": "stream",
     "text": [
      "DecisionTreeClassifier: 0.7429225620210452\n",
      "AdaBoostClassifier: 0.7399421556866548\n"
     ]
    }
   ],
   "source": [
    "print('DecisionTreeClassifier:' , decision_trees.cvs_decision_tree(X_train, y_train))\n",
    "\n",
    "\n",
    "print('AdaBoostClassifier:' , decision_trees.csv_adaboost(X_train, y_train))"
   ],
   "metadata": {
    "collapsed": false,
    "pycharm": {
     "name": "#%%\n"
    }
   }
  }
 ]
}